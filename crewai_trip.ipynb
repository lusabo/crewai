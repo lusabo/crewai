!pip install --q crewai
!pip install --q langchain_groq
!pip install --q 'crewai[tools]'
!pip install --q 'embedchain[postgres]'
!pip install --q openrouteservice

import os
import json
import requests
import warnings
import openrouteservice
from crewai import Agent, Task, Crew, Process
from crewai_tools import tool, SerperDevTool, JSONSearchTool, PGSearchTool
from langchain_groq import ChatGroq
import google.generativeai as genai

# Controle de alerta
warnings.filterwarnings('ignore')

# llama3 com Groq
llama3 = ChatGroq(
    api_key="<add_your_key_here>",
    model="llama3-70b-8192"
)

# OpenRoute Service
ors = openrouteservice.Client(key="<add_your_key_here>")

# Serper
os.environ["SERPER_API_KEY"] = "<add_your_key_here>"
serper_tool = SerperDevTool()

# Google
os.environ["API_KEY"] = "<add_your_key_here>"
genai.configure(api_key=os.environ['API_KEY'])

# JSON
json_tool = JSONSearchTool(
    json_path='/content/hotels.json',
    config={
        "llm": {
            "provider": "ollama",
            "config": {
                "model": "llama3"
            },
        },
        "embedder": {
            "provider": "google",
            "config": {
                "model": "models/embedding-001",
                "task_type": "retrieval_document"
            }
        }
    }
)

pg_tool = PGSearchTool(
    db_uri='<add_connection_url_here>', table_name='restaurantes',
    config={
        "llm": {
            "provider": "ollama",
            "config": {
                "model": "llama3"
            },
        },
        "embedder": {
            "provider": "google",
            "config": {
                "model": "models/embedding-001",
                "task_type": "retrieval_document"
            }
        }
    }
)


# Ferramentas
@tool("Buscar dados da viagem via API")
def trip_tool(trip_id: str) -> str:
    """Obter dados da requisição de viagem acessando uma API externa"""
    url = f'<add_service_url_here>/trips/{trip_id}'
    response = requests.get(url)
    if response.status_code == 200:
        trip_data = response.json()
        return json.dumps(trip_data)
    else:
        return json.dumps([])

# Função auxiliar que será usada pela ferramenta.
def get_city_coordinates(city_names):
    coordinates = {}
    for city in city_names:
        geocode = ors.pelias_search(text=city)
        if geocode['features']:
            coordinates[city] = geocode['features'][0]['geometry']['coordinates']
    return coordinates

@tool("Buscar a distância entre as cidades seguindo a ordem do itinerário.")
def route_tool(itinerary: list) -> str:
    """
    Uma ferramenta para buscar a distância em km e o tempo de viagem de carro
    entre as cidades do itinerário.

    Essa função faz uma requisição à API do OpenRouteService para recuperar a
    rotas entre duas cidades.

    Em caso de sucesso, a função retorna uma lista composta por objetos json no formato:
    "{'from': from_city, 'to': to_city, 'distance_km': distance_km, 'duration_hours': duration_hours}”.
    """
    # Obtendo as coordenadas das cidades
    city_coordinates = get_city_coordinates(itinerary)

    # Calculando a distância e duração para cada par de cidades adjacentes
    results = []
    num_cities = len(itinerary)
    for i in range(num_cities - 1):
        from_city = itinerary[i]
        to_city = itinerary[i + 1]

        # Obtendo as coordenadas das cidades adjacentes
        from_coordinates = city_coordinates[from_city]
        to_coordinates = city_coordinates[to_city]

        # Fazendo a solicitação para calcular a distância e duração entre as cidades adjacentes
        route = ors.directions(
            coordinates=[from_coordinates, to_coordinates],
            profile='driving-car',
            format='geojson'
        )

        # Extraindo a distância e duração da rota
        distance_km = route['features'][0]['properties']['segments'][0]['distance'] / 1000  # Convertendo para quilômetros
        duration_hours = route['features'][0]['properties']['segments'][0]['duration'] / 3600  # Convertendo para horas

        # Adicionando os resultados à lista
        result = {
            "from": from_city,
            "to": to_city,
            "distance_km": distance_km,
            "duration_hours": duration_hours
        }
        results.append(result)

    return json.dumps(results)

# Agentes
trip_agent = Agent(
    role="Agente de Viagem",
    goal="Montar o roteiro de viagem com as cidades a serem visitadas e seus "
         "principais pontos turísticos assim como a distância entre as cidades "
         "e o tempo de viagem de carro entre as cidades. Não é necessário informar "
         "quantos dias o viajante deve passar em cada cidade, deve-se limitar somente "
         "a agrupar os dados.",
    backstory="Com anos de experiência na indústria de viagens e um talento natural "
              "para organização e gestão, o agente de viagem é responsável por supervisionar "
              "todos os aspectos do planejamento da viagem. Ele trabalha em conjunto com os "
              "agentes de roteamento e turismo para montar um roteiro completo e detalhado.",
    allow_delegation=False,
    verbose=True,
    llm=llama3,
    max_iter=15,
    max_rpm=300
)

route_agent = Agent(
    role="Agente de Roteamento",
    goal="Calcular apenas a distância e a duração entre os itens adjacentes do itinerário.",
    backstory="Com uma vasta experiência em mapeamento e navegação, o agente "
              "de roteamento utiliza algoritmos avançados para garantir que "
              "os clientes tenham a rota mais eficiente e segura para sua viagem.",
    allow_delegation=False,
    verbose=True,
    llm=llama3,
    max_iter=15,
    max_rpm=300
)

tourist_guide_agent = Agent(
    role="Guia de Turismo",
    goal="Fornecer uma lista detalhada dos melhores pontos turísticos em cada "
         "cidade do itinerário fornecido pelo Agente de Viagem.",
    backstory="Um guia local experiente com vasto conhecimento sobre as cidades "
              "e seus atrativos. O Guia de Turismo utiliza sua expertise "
              "para garantir que os clientes visitem os locais mais interessantes "
              "e relevantes durante sua viagem.",
    allow_delegation=False,
    verbose=True,
    llm=llama3,
    max_iter=15,
    max_rpm=300
)

hosting_agent = Agent(
    role="Agente de Hospedagem",
    goal="Ajudar os clientes com indicações de hotéis ao longo do itinerário da viagem "
         "fornecido pelo Agente de Viagem.",
    backstory="Com um histórico em hotelaria, o agente de hospedagem se dedica a "
              "encontrar as melhores opções de hospedagem, garantindo que cada estadia "
              "seja confortável e adequada às necessidades dos clientes.",
    allow_delegation=False,
    verbose=True,
    llm=llama3,
    max_iter=15,
    max_rpm=300
)

restaurant_agent = Agent(
    role="Agente de Restaurante",
    goal="Ajudar os clientes com indicações de restaurantes ao longo do itinerário da viagem "
         "fornecido pelo Agente de Viagem.",
    backstory="ourmet e entusiasta da culinária, o agente de restaurante possui um profundo "
              "conhecimento dos melhores lugares para comer. Ele usa essa paixão para sugerir "
              "experiências gastronômicas que irão satisfazer todos os paladares.",
    allow_delegation=False,
    verbose=True,
    llm=llama3,
    max_iter=15,
    max_rpm=300
)

# Tarefas
load_trip_task = Task(
    description="A tarefa envolve fazer uma requisição à API para buscar os dados da viagem."
                "O ID da viagem '{id}' deve ser passado na requisição.",
    expected_output="Os dados da viagem em formato JSON com os campos 'id', 'client_name' e 'intinerary'.",
    tools=[trip_tool],
    agent=trip_agent,
    error_handling="Em caso de erro, registrar a falha e notificar o operador responsável."
)

calculate_distance_and_travel_time_task = Task(
    description="Calcular a distância e a duração da viagem de carro entre as cidades do itinerário fornecido.",
    expected_output="Lista com a distância e a duração da viagem de carro entre as cidades do itinerário.",
    tools=[route_tool],
    agent=route_agent,
    context=[load_trip_task],
    error_handling="Em caso de erro, registrar a falha e notificar o operador responsável."
)

get_tourist_attractions_task = Task(
    description="Obtenha pontos turísticos para cada cidade no itinerário fornecido. "
                "É obrigatório realizar essa tarefa para todas as cidades, limitando "
                "a busca a apenas 5 sites da internet. Desconsidere quaisquer cidades duplicadas.",
    expected_output="Lista das cidades com as sugestões de pontos turísticos a serem visitados.",
    tools=[serper_tool],
    agent=tourist_guide_agent,
    context=[load_trip_task],
    error_handling="Em caso de erro, registrar a falha e notificar o operador responsável."
)

get_hotels_task = Task(
    description="Obter hotéis para cada cidade no itinerário fornecido."
                "Cidades duplicadas devem ser desconsideradas.",
    expected_output="Lista dos nomes de 3 hotéis para cada cidade.",
    tools=[json_tool],
    agent=hosting_agent,
    context=[load_trip_task],
    error_handling="Em caso de erro, registrar a falha e notificar o operador responsável."
)

get_restaurants_task = Task(
    description="Obter restaurantes para cada cidade no itinerário fornecido."
                "Cidades duplicadas devem ser desconsideradas.",
    expected_output="Lista dos nomes e avaliações dos 5 restaurantes mais bem avaliados para cada cidade.",
    tools=[pg_tool],
    agent=restaurant_agent,
    context=[load_trip_task],
    error_handling="Em caso de erro, registrar a falha e notificar o operador responsável."
)

consolidate_trip_task = Task(
    description="Juntar as informações que o Agente de Roteamento, o Guia de Turismo e o Agente de Hospedagem produziram.",
    expected_output="Lista das cidades a serem visitas, onde para cada cidade teremos uma lista "
                    "dos 5 pontos turísticos mais visitados, dos 5 restaurantes mais bem avaliados "
                    "e também a lista das distâncias e o tempo entre as cidades e sugestões de hotéis.",
    agent=trip_agent,
    context=[calculate_distance_and_travel_time_task, get_tourist_attractions_task, get_hotels_task, get_restaurants_task],
    error_handling="Em caso de erro, registrar a falha e notificar o operador responsável."
)

# Crew
trip_crew = Crew(
    agents=[trip_agent, route_agent, tourist_guide_agent, hosting_agent, restaurant_agent],
    tasks=[load_trip_task, calculate_distance_and_travel_time_task, get_tourist_attractions_task, get_hotels_task, get_restaurants_task, consolidate_trip_task],
    process=Process.sequential,
    verbose=True
)

trip_inputs = {'id': '1'}
result = trip_crew.kickoff(inputs=trip_inputs)
print(result)
