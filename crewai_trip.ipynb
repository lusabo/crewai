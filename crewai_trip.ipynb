import json
import requests
import warnings
import openrouteservice
from crewai_tools import tool
from crewai import Agent, Task, Crew
from langchain_groq import ChatGroq

# Controle de alerta
warnings.filterwarnings('ignore')

# Conexão ao llama3 através do Groq
llama3 = ChatGroq(
    api_key="<your_groq_key>",
    model="llama3-70b-8192"
)

# Conexão ao OpenRoute Service
ors = openrouteservice.Client(key="<your_ors_key>")

# Ferramentas
@tool("Buscar dados da viagem via API")
def trip_tool(trip_id: str) -> str:
  """Obter dados da requisição de viagem acessando uma API externa"""
  url = f'<url_generate_from_service>/trips/{trip_id}'
  response = requests.get(url)
  if response.status_code == 200:
      trip_data = response.json()
      return trip_data
  else:
      return []

def get_city_coordinates(city_names):
    coordinates = {}
    for city in city_names:
        geocode = ors.pelias_search(text=city)
        if geocode['features']:
            coordinates[city] = geocode['features'][0]['geometry']['coordinates']
    return coordinates

@tool("Buscar a distância entre as cidades seguindo a ordem do itinerário.")
def route_tool(itinerary: list) -> list:
    """
    Uma ferramenta para buscar a distância em km entre as cidades do itinerário.

    Essa função faz uma requisição à API do OpenRouteService para recuperar a rotas entre duas cidades.

    Em caso de sucesso, a função retorna uma lista composta por objetos json no formato: 
    "{'from': from_city, 'to': to_city, 'distance_km': distance_km, 'duration_hours': duration_hours}”.

    Se a solicitação falhar por algum motivo, como problemas de conexão ou erros de API, 
    a função retornará uma mensagem de erro indicando o problema encontrado.
    """

    # Obtendo as coordenadas das cidades
    city_coordinates = get_city_coordinates(itinerary)

    # Calculando a distância e duração para cada par de cidades adjacentes
    results = []
    num_cities = len(itinerary)
    for i in range(num_cities - 1):
        from_city = itinerary[i]
        to_city = itinerary[i + 1]
        
        # Obtendo as coordenadas das cidades adjacentes
        from_coordinates = city_coordinates[from_city]
        to_coordinates = city_coordinates[to_city]
        
        # Fazendo a solicitação para calcular a distância e duração entre as cidades adjacentes
        route = ors.directions(
            coordinates=[from_coordinates, to_coordinates],
            profile='driving-car',
            format='geojson'
        )
        
        # Extraindo a distância e duração da rota
        distance_km = route['features'][0]['properties']['segments'][0]['distance'] / 1000  # Convertendo para quilômetros
        duration_hours = route['features'][0]['properties']['segments'][0]['duration'] / 3600  # Convertendo para horas
        
        # Adicionando os resultados à lista
        result = {
            "from": from_city,
            "to": to_city,
            "distance_km": distance_km,
            "duration_hours": duration_hours
        }
        results.append(result)
    
    return results

# Agentes
trip_agent = Agent(
    role="Agente de Viagem",
    goal="Montar o roteiro de viagem com a distância e a duração da viagem que "
         "será realizado pelo agente de roteamento.",
    backstory="Com anos de experiência na indústria de viagens e um talento "
              "natural para organização e gestão, o agente de viagem é responsável "
              "por supervisionar todos os aspectos do planejamento da viagem.",
    allow_delegation=False,
    verbose=True,
    llm = llama3
)

route_agent = Agent(
    role="Agente de Roteamento",
    goal="Calcular apenas a distância e a duração entre os itens adjacentes do itinerário.",
    backstory="Com uma vasta experiência em mapeamento e navegação, o agente "
              "de roteamento utiliza algoritmos avançados para garantir que "
              "os clientes tenham a rota mais eficiente e segura para sua viagem.",
    allow_delegation=False,
    tools=[route_tool],    
    verbose=True,
    llm=llama3
    
)

# Tarefa
load_trip_task = Task(
    description=(
        "Analisar a requisição cujo id é {id} para extrair "
        "os detalhes a fim de montar o melhor roteiro de viagem."
    ),
    expected_output=(
        "As informações da requisição de forma estruturadas."
    ),
    tools = [trip_tool],
    agent = trip_agent
)

create_route_task = Task(
    description="Descobrir a distância e a duração da viagem de carro entre as cidades.",
    expected_output="Lista com a distância e a duração da viagem de carro entre as cidades do itinerário.",
    tools = [route_tool],
    agent = route_agent,
    context=[load_trip_task]
)

# Crew
trip_crew = Crew(
    agents=[trip_agent, route_agent],
    tasks=[load_trip_task, create_route_task],
    verbose=True
)

trip_inputs = {
    'id': '1'
}

result = trip_crew.kickoff(inputs=trip_inputs)
print(result)
