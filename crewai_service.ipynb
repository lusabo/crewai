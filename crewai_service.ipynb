# Instalar Flask e pyngrok
!pip install Flask Flask-SQLAlchemy pyngrok

# Importar as bibliotecas necessárias
from flask import Flask, request, jsonify
from flask_sqlalchemy import SQLAlchemy
from pyngrok import ngrok
from sqlalchemy.dialects.postgresql import ARRAY
from datetime import date

# Autenticar ngrok com seu token
!ngrok authtoken <ngrok_authtoken>

# Inicializar a aplicação Flask
app = Flask(__name__)

# Configurar a URL do banco de dados SQLite
app.config['SQLALCHEMY_DATABASE_URI'] = 'sqlite:///test.db'
app.config['SQLALCHEMY_TRACK_MODIFICATIONS'] = False

# Inicializar o banco de dados
db = SQLAlchemy(app)

# Definir o modelo de dados Trip
class Trip(db.Model):
    id = db.Column(db.Integer, primary_key=True)
    client_name = db.Column(db.String(80), nullable=False)
    itinerary = db.Column(db.PickleType, nullable=True)  # Usando PickleType para armazenar arrays

# Criar o banco de dados e a tabela com o contexto de aplicação
with app.app_context():
    db.create_all()

    # Adicionar registros iniciais
    if not Trip.query.first():
        trip1 = Trip(
            client_name="Wonder Woman",
            itinerary=["Lisboa", "Valladolid", "Lourdes", "Nice", "Marseille", "Saragoça", "Madrid", "Lisboa"]
        )
        db.session.add(trip1)
        db.session.commit()

# Definir uma rota para retornar uma viagem específica
@app.route('/trips/<int:id>', methods=['GET'])
def get_trip(id):
    trip = Trip.query.get_or_404(id)
    result = {
        "id": trip.id,
        "client_name": trip.client_name,
        "itinerary": trip.itinerary
    }
    return jsonify(result), 200

# Definir uma rota simples
@app.route('/')
def hello_world():
    return "Hello, World!"

# Rodar a aplicação Flask
if __name__ == '__main__':
    # Configurar o ngrok para criar um túnel para a aplicação Flask
    url = ngrok.connect(5000)
    print('Public URL:', url)
    app.run(port=5000)
